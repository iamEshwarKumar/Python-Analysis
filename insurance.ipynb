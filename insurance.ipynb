{
 "cells": [
  {
   "cell_type": "code",
   "execution_count": 120,
   "id": "0271b215-80d4-4adc-87b6-194da1ad8157",
   "metadata": {},
   "outputs": [],
   "source": [
    "import pandas as pd \n",
    "import numpy as np\n",
    "import matplotlib.pyplot as plt\n",
    "import seaborn as sns"
   ]
  },
  {
   "cell_type": "code",
   "execution_count": 143,
   "id": "f2fb9756-7b12-4e8e-b6f0-5f2386a93d7c",
   "metadata": {},
   "outputs": [],
   "source": [
    "class Insurance:\n",
    "    def __init__(self,csv_path_file):\n",
    "        self.df = pd.read_csv(csv_path_file)\n",
    "        \n",
    "    def get_data(self):\n",
    "        return self.df\n",
    "        \n",
    "    def show_info(self):\n",
    "        return self.df.info(), self.df.isnull().sum()\n",
    "        \n",
    "    def remove_duplicates(self):\n",
    "        before = self.df.shape[0]\n",
    "        self.df.drop_duplicates(inplace=True)\n",
    "        after = self.df.shape[0]\n",
    "        return f\"Removed {before - after} duplicate rows.\"\n",
    "        \n",
    "    def handle_missing_values(self):\n",
    "        for column in self.df.columns:\n",
    "            if self.df[column].dtype == 'object':\n",
    "                self.df[column] = self.df[column].fillna(self.df[column].mode()[0])\n",
    "            else:\n",
    "                self.df[column] = self.df[column].fillna(self.df[column].median())\n",
    "                \n",
    "    def missing_row_count(self):\n",
    "        return self.df.isnull().sum(axis = 1)\n",
    "        \n",
    "    def detect_outliers(self, column):\n",
    "        Q1 = self.df[column].quantile(0.25)\n",
    "        Q3 = self.df[column].quantile(0.75)\n",
    "        IQR = Q3 - Q1\n",
    "        outliers = self.df[(self.df[column] < (Q1 - 1.5 * IQR)) | (self.df[column] > (Q3 + 1.5 * IQR))]\n",
    "        print(f\"Outliers in '{column}': {len(outliers)}\")\n",
    "        \n",
    "    def describe_numerical(self):\n",
    "        return self.df.describe()\n",
    "        \n",
    "    def average_claim_amount(self):\n",
    "        print(\"Average Claim Amount:\", self.df['total_claim_amount'].mean())\n",
    "        \n",
    "    def claim_distribution_by_gender(self):\n",
    "        sns.boxplot(x='insured_sex', y='total_claim_amount', data=self.df)\n",
    "        plt.title('Claim Distribution by Gender')\n",
    "        plt.show()\n",
    "        \n",
    "    def fraud_ratio(self):\n",
    "        ratio = self.df['fraud_reported'].value_counts(normalize=True) * 100\n",
    "        print(\"Fraud Reported Ratio (%):\\n\", ratio)\n",
    "        \n",
    "    def correlation_matrix(self):\n",
    "        corr = self.df.select_dtypes(include=np.number).corr()\n",
    "        plt.figure(figsize=(10, 8))\n",
    "        sns.heatmap(corr, annot=True, cmap='coolwarm')\n",
    "        plt.title(\"Correlation Matrix\")\n",
    "        plt.show()\n",
    "    def claim_by_state(self):\n",
    "        result = self.df.groupby('policy_state')['total_claim_amount'].mean()\n",
    "        print(\"Average Claim Amount by State:\\n\", result)\n",
    "\n",
    "\n",
    "\n",
    "\n",
    "    "
   ]
  },
  {
   "cell_type": "code",
   "execution_count": 144,
   "id": "2d8435fb-ae33-4fdf-a764-feb27de6ad62",
   "metadata": {},
   "outputs": [
    {
     "name": "stdout",
     "output_type": "stream",
     "text": [
      "Average Claim Amount by State:\n",
      " policy_state\n",
      "IL    52844.171598\n",
      "IN    53006.967742\n",
      "OH    52467.187500\n",
      "Name: total_claim_amount, dtype: float64\n"
     ]
    }
   ],
   "source": [
    "I1 = Insurance('insurance_claims.csv')\n",
    "\n",
    "I1.claim_by_state()"
   ]
  }
 ],
 "metadata": {
  "kernelspec": {
   "display_name": "Python 3 (ipykernel)",
   "language": "python",
   "name": "python3"
  },
  "language_info": {
   "codemirror_mode": {
    "name": "ipython",
    "version": 3
   },
   "file_extension": ".py",
   "mimetype": "text/x-python",
   "name": "python",
   "nbconvert_exporter": "python",
   "pygments_lexer": "ipython3",
   "version": "3.12.7"
  }
 },
 "nbformat": 4,
 "nbformat_minor": 5
}
