{
 "cells": [
  {
   "cell_type": "code",
   "execution_count": null,
   "id": "ab301c92-b741-4875-8a01-14e03bede7c8",
   "metadata": {},
   "outputs": [],
   "source": [
    "import spotipy\n",
    "from spotipy import Spotify\n",
    "from spotipy.oauth2 import SpotifyClientCredentials\n",
    "from spotipy.oauth2 import SpotifyOAuth"
   ]
  },
  {
   "cell_type": "code",
   "execution_count": 79,
   "id": "575c3d11-31a0-461c-bb83-cda37d28dcad",
   "metadata": {},
   "outputs": [],
   "source": [
    "class Spotifyspot:\n",
    "    def __init__(self):\n",
    "        self.sp = Spotify(auth_manager=SpotifyClientCredentials(\n",
    "            client_id=\"92addc5bb49e490f9885ce846cc82627\",\n",
    "            client_secret=\"69be907ad2d24e0fb58ac27255888085\"\n",
    "        ))\n",
    "\n",
    "    def search_artist(self, artist_name: str):\n",
    "        return self.sp.search(q=artist_name, type='artist')\n",
    "\n",
    "    def search_artist_track(self, artist_url: str):\n",
    "        results = self.sp.artist_top_tracks(artist_url)\n",
    "        for track in results['tracks'][:10]:\n",
    "            print('Track       :', track['name'])\n",
    "            print('Album       :', track['album']['name'])\n",
    "            print('Release Date:', track['album']['release_date'])\n",
    "            print('Duration    :', round(track['duration_ms'] / 60000, 2), \"mins\")\n",
    "            print('Explicit    :', track['explicit'])\n",
    "            print('Popularity  :', track['popularity'])\n",
    "            print('Cover Art   :', track['album']['images'][0]['url'] if track['album']['images'] else \"No image\")\n",
    "            print('Spotify URL :', track['external_urls']['spotify'])\n",
    "            print('-' * 60)\n",
    "\n",
    "    def get_artist_image_url(self, artist_name='Radiohead'):\n",
    "        results = self.sp.search(q='artist:' + artist_name, type='artist')\n",
    "        items = results['artists']['items']\n",
    "        if items:\n",
    "            artist = items[0]\n",
    "            name = artist['name']\n",
    "            image_url = artist['images'][0]['url'] if artist['images'] else \"No image available\"\n",
    "            return name, image_url\n",
    "        else:\n",
    "            return None, \"Artist not found\"\n",
    "            \n",
    "    def get_artist_details(self, artist_urn: str):\n",
    "        return self.sp.artist(artist_urn)\n",
    "\n",
    "    def get_user_details(self, user_id: str):\n",
    "        return self.sp.user(user_id)\n",
    "        \n",
    "    def get_user_playlists(self, user_id):\n",
    "        playlists = self.sp.user_playlists(user_id)\n",
    "        data = []\n",
    "        for playlist in playlists['items']:\n",
    "            name = playlist['name']\n",
    "            url = playlist['external_urls']['spotify']\n",
    "            data.append((name, url))\n",
    "        return data\n",
    "        \n",
    "    def seek_to_position(self, position_ms: int, device_id: str = None):\n",
    "        try:\n",
    "            self.sp.seek_track(position_ms, device_id=device_id)\n",
    "            return f\"Seeked to {position_ms} ms.\"\n",
    "        except Exception as e:\n",
    "            return f\"Error seeking track: {e}\"\n",
    "            \n",
    "\n",
    "        \n",
    "    \n",
    "            \n",
    "    \n",
    "\n",
    "    \n",
    "   \n",
    "        "
   ]
  },
  {
   "cell_type": "code",
   "execution_count": null,
   "id": "65d96634-d73d-482f-821a-c89cc2d57fab",
   "metadata": {},
   "outputs": [],
   "source": [
    "s1=Spotifyspot()"
   ]
  },
  {
   "cell_type": "code",
   "execution_count": null,
   "id": "a224f45a-6de8-40ce-997d-4e0f9ab021f9",
   "metadata": {},
   "outputs": [],
   "source": []
  }
 ],
 "metadata": {
  "kernelspec": {
   "display_name": "Python 3 (ipykernel)",
   "language": "python",
   "name": "python3"
  },
  "language_info": {
   "codemirror_mode": {
    "name": "ipython",
    "version": 3
   },
   "file_extension": ".py",
   "mimetype": "text/x-python",
   "name": "python",
   "nbconvert_exporter": "python",
   "pygments_lexer": "ipython3",
   "version": "3.12.7"
  }
 },
 "nbformat": 4,
 "nbformat_minor": 5
}
