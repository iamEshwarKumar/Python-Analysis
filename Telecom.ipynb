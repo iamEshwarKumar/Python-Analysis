{
 "cells": [
  {
   "cell_type": "code",
   "execution_count": 2,
   "id": "080692f8-3a93-49a1-85c7-3565b1319361",
   "metadata": {},
   "outputs": [],
   "source": [
    "import pandas as pd\n",
    "import numpy as np"
   ]
  },
  {
   "cell_type": "code",
   "execution_count": 41,
   "id": "ddabc053-f51f-40d7-9494-756e1c20321e",
   "metadata": {
    "scrolled": true
   },
   "outputs": [],
   "source": [
    "class Telecommunication:\n",
    "    \n",
    "    def __init__(self,csv_path_file):\n",
    "        self.df =  pd.read_csv('Telco_Customer.csv')\n",
    "        \n",
    "    def get_data(self):\n",
    "        return self.df\n",
    "    \n",
    "    def gender_count(self):\n",
    "        count = self.df['gender'].value_counts()\n",
    "        return count\n",
    "        \n",
    "    def churn_count(self):\n",
    "        return self.df['Churn'].value_counts()\n",
    "        \n",
    "    def churn_count_by_gender(self):\n",
    "        return self.df.groupby(['gender','Churn']).size()\n",
    "    \n",
    "    def senior_citizen_count(self):\n",
    "        return self.df[self.df['SeniorCitizen'] == 1].shape[0]\n",
    "    \n",
    "    def show_info(self):\n",
    "        return self.df.info(),self.df.isnull().sum()\n",
    "        \n",
    "    def churn_distribution(self):\n",
    "        print( self.df['Churn'].value_counts(normalize=True) * 100)\n",
    "        \n",
    "    def clean_data(self):\n",
    "        self.df.drop_duplicates(inplace=True)\n",
    "        self.df['TotalCharges'] = pd.to_numeric(self.df['TotalCharges'], errors='coerce')\n",
    "        self.df['TotalCharges'].fillna(self.df['TotalCharges'].median(), inplace=True)\n",
    "        \n",
    "    def service_usage_stats(self):\n",
    "        services = ['OnlineSecurity', 'TechSupport', 'StreamingTV', 'StreamingMovies']\n",
    "        for service in services:\n",
    "            print(f\"\\n{service} Value Counts:\")\n",
    "            print(self.df[service].value_counts(normalize=True) * 100)\n"
   ]
  }
 ],
 "metadata": {
  "kernelspec": {
   "display_name": "Python 3 (ipykernel)",
   "language": "python",
   "name": "python3"
  },
  "language_info": {
   "codemirror_mode": {
    "name": "ipython",
    "version": 3
   },
   "file_extension": ".py",
   "mimetype": "text/x-python",
   "name": "python",
   "nbconvert_exporter": "python",
   "pygments_lexer": "ipython3",
   "version": "3.12.7"
  }
 },
 "nbformat": 4,
 "nbformat_minor": 5
}
